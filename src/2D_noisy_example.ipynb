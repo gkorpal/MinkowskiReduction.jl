{
 "cells": [
  {
   "cell_type": "code",
   "execution_count": 9,
   "id": "84e7a030-f0ef-457a-b0ba-90d81e9011eb",
   "metadata": {},
   "outputs": [],
   "source": [
    "using LinearAlgebra"
   ]
  },
  {
   "cell_type": "code",
   "execution_count": 2,
   "id": "a7d96229-602d-4e81-a8f4-ea4b256d0895",
   "metadata": {},
   "outputs": [
    {
     "data": {
      "text/plain": [
       "([0.0624, 0.001], [-0.001, 15.999])"
      ]
     },
     "execution_count": 2,
     "metadata": {},
     "output_type": "execute_result"
    }
   ],
   "source": [
    "a1, a2 = ([.0624;0.001],[-0.001,15.999])"
   ]
  },
  {
   "cell_type": "code",
   "execution_count": 3,
   "id": "1bd91d5f-a010-4098-82dc-f5ac13a42c6c",
   "metadata": {},
   "outputs": [
    {
     "data": {
      "text/plain": [
       "2-element Vector{Float64}:\n",
       " -0.0624\n",
       " -0.001"
      ]
     },
     "execution_count": 3,
     "metadata": {},
     "output_type": "execute_result"
    }
   ],
   "source": [
    "a3 = a1 + a2\n",
    "a5 = -a2\n",
    "a4 = -a1"
   ]
  },
  {
   "cell_type": "code",
   "execution_count": 4,
   "id": "fa0b88d2-4370-49a1-bd83-93cfa85da7bd",
   "metadata": {},
   "outputs": [
    {
     "data": {
      "text/plain": [
       "2×2 Matrix{Float64}:\n",
       " -1.00006    0.00377523\n",
       " -0.0320523  1.00006"
      ]
     },
     "execution_count": 4,
     "metadata": {},
     "output_type": "execute_result"
    }
   ],
   "source": [
    "[a4 a3]inv([a1 a2])"
   ]
  },
  {
   "cell_type": "code",
   "execution_count": 5,
   "id": "0bc1c013-c508-4a8d-b9f3-75ebd339eabb",
   "metadata": {},
   "outputs": [
    {
     "data": {
      "text/plain": [
       "2×2 Matrix{Float64}:\n",
       " -1.0   1.35525e-20\n",
       "  0.0  -1.0"
      ]
     },
     "execution_count": 5,
     "metadata": {},
     "output_type": "execute_result"
    }
   ],
   "source": [
    "[a4 a5]inv([a1 a2])"
   ]
  },
  {
   "cell_type": "code",
   "execution_count": 6,
   "id": "f7d362a1-893f-4061-a637-fe72d1c73503",
   "metadata": {},
   "outputs": [
    {
     "data": {
      "text/plain": [
       "2×2 Matrix{Float64}:\n",
       " 0.999998    0.000125008\n",
       " 0.0320512  -0.999998"
      ]
     },
     "execution_count": 6,
     "metadata": {},
     "output_type": "execute_result"
    }
   ],
   "source": [
    "[a1 a5]inv([a1 a2])"
   ]
  },
  {
   "cell_type": "code",
   "execution_count": 10,
   "id": "eec7067d-2900-4768-9f52-2c514de13dba",
   "metadata": {},
   "outputs": [
    {
     "data": {
      "text/plain": [
       "2-element Vector{Float64}:\n",
       " 15.999000031251954\n",
       " 16.00011781081627"
      ]
     },
     "execution_count": 10,
     "metadata": {},
     "output_type": "execute_result"
    }
   ],
   "source": [
    "norm.([a2,a3])"
   ]
  },
  {
   "cell_type": "code",
   "execution_count": null,
   "id": "f5b2a139-80d3-4034-973b-fc3afc4a88bc",
   "metadata": {},
   "outputs": [],
   "source": []
  }
 ],
 "metadata": {
  "kernelspec": {
   "display_name": "Julia 1.7.1",
   "language": "julia",
   "name": "julia-1.7"
  },
  "language_info": {
   "file_extension": ".jl",
   "mimetype": "application/julia",
   "name": "julia",
   "version": "1.7.1"
  }
 },
 "nbformat": 4,
 "nbformat_minor": 5
}
